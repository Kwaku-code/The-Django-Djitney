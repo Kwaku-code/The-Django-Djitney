{
 "cells": [
  {
   "cell_type": "markdown",
   "metadata": {},
   "source": [
    "views.py"
   ]
  },
  {
   "cell_type": "code",
   "execution_count": null,
   "metadata": {},
   "outputs": [],
   "source": [
    "from django.shortcuts import render\n",
    "from .models import Line, Station, Stop\n",
    "from .forms import  StopForm, LineForm, StationForm\n",
    "# Add your imports below:\n",
    "from django.views.generic import TemplateView, ListView \n",
    "from django.views.generic.edit import CreateView, UpdateView, DeleteView\n",
    "\n",
    "class HomeView(TemplateView):\n",
    "  template_name = \"routes/home.html\"\n",
    "\n",
    "  def get_context_data(self):\n",
    "    context = super().get_context_data()\n",
    "    context[\"lines\"] = Line.objects.all()\n",
    "    context[\"stations\"] = Station.objects.all()\n",
    "    context[\"stops\"] = Stop.objects.all()\n",
    "    return context\n",
    "\n",
    "# Create your views here.\n",
    "class LinesView(ListView):\n",
    "  model = Line\n",
    "  template_name = \"routes/lines.html\"\n",
    "\n",
    "class CreateLineView(CreateView):\n",
    "  model = Line\n",
    "  form_class = LineForm\n",
    "  template_name = \"routes/add_line.html\"\n",
    "\n",
    "class UpdateLineView(UpdateView):\n",
    "  model = Line\n",
    "  template_name = \"routes/update_line.html\"\n",
    "  form_class = LineForm\n",
    "\n",
    "class DeleteLineView(DeleteView):\n",
    "  model = Line\n",
    "  template_name = \"routes/delete_line.html\"\n",
    "\tsuccess_url = \"/lines/\"\n",
    "\n",
    "class StationsView(ListView):\n",
    "  model = Station\n",
    "  template_name = \"routes/stations.html\"\n",
    "\n",
    "class CreateStationView(CreateView):\n",
    "  model = Station\n",
    "  template_name = \"routes/add_station.html\"\n",
    "  form_class = StationForm\n",
    "  \n",
    "class UpdateStationView(UpdateView):\n",
    "  model = Station\n",
    "  template_name = \"routes/update_station.html\"\n",
    "  form_class = StationForm\n",
    "\n",
    "class DeleteStationView(DeleteView):\n",
    "  model = Station\n",
    "  template_name = \"routes/delete_station.html\"\n",
    "  success_url = \"/stations/\"\n",
    "\n",
    "class StopsView(ListView):\n",
    "  model = Stop\n",
    "  template_name = \"routes/stops.html\"\n",
    "  \n",
    "class CreateStopView(CreateView):\n",
    "  model = Stop\n",
    "  form_class = StopForm\n",
    "  template_name = \"routes/add_stop.html\"\n",
    "\n",
    "class UpdateStopView(UpdateView):\n",
    "  model = Stop\n",
    "  form_class = StopForm\n",
    "  template_name = \"routes/update_stop.html\"\n",
    "\n",
    "class DeleteStopView(DeleteView):\n",
    "  model = Stop\n",
    "  template_name = \"routes/delete_stop.html\"\n",
    "  success_url = \"/stops/\"\n"
   ]
  },
  {
   "cell_type": "markdown",
   "metadata": {},
   "source": [
    "urls.py"
   ]
  },
  {
   "cell_type": "code",
   "execution_count": null,
   "metadata": {},
   "outputs": [],
   "source": [
    "from django.urls import path\n",
    "\n",
    "from . import views\n",
    "\n",
    "urlpatterns = [\n",
    "  path(\"\", views.HomeView.as_view(), name=\"home\"),\n",
    "  path(\"lines/\", views.LinesView.as_view(), name=\"lines\"),\n",
    "  path(\"lines/new/\", views.CreateLineView.as_view(), name=\"create_line\"),\n",
    "  path(\"lines/<pk>/update/\", views.UpdateLineView.as_view(), name=\"update_line\"),\n",
    "  path(\"lines/<pk>/delete/\", views.DeleteLineView.as_view(), name=\"delete_line\"),\n",
    "  path(\"stations/\", views.StationsView.as_view(), name=\"stations\"),\n",
    "  path(\"stations/new/\", views.CreateStationView.as_view(), name=\"create_station\"),\n",
    "  path(\"stations/<pk>/update/\", views.UpdateStationView.as_view(), name=\"update_station\"),\n",
    "  path(\"stations/<pk>/delete/\", views.DeleteStationView.as_view(), name=\"delete_station\"),\n",
    "  path(\"stops/\", views.StopsView.as_view(), name=\"stops\"),\n",
    "  path(\"stops/new/\", views.CreateStopView.as_view(), name=\"create_stop\"),\n",
    "  path(\"stops/<pk>/update/\", views.UpdateStopView.as_view(), name=\"update_stop\"),\n",
    "  path(\"stops/<pk>/delete/\", views.DeleteStopView.as_view(), name=\"delete_stop\")\n",
    "]\n"
   ]
  }
 ],
 "metadata": {
  "kernelspec": {
   "display_name": "Python 3",
   "language": "python",
   "name": "python3"
  },
  "language_info": {
   "codemirror_mode": {
    "name": "ipython",
    "version": 3
   },
   "file_extension": ".py",
   "mimetype": "text/x-python",
   "name": "python",
   "nbconvert_exporter": "python",
   "pygments_lexer": "ipython3",
   "version": "3.7.3"
  }
 },
 "nbformat": 4,
 "nbformat_minor": 2
}
